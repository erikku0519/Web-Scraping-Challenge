{
 "cells": [
  {
   "cell_type": "code",
   "execution_count": 3,
   "metadata": {},
   "outputs": [],
   "source": [
    "#### Part 0: Set-Up ####\n",
    "\n",
    "# Dependencies\n",
    "from bs4 import BeautifulSoup as bs\n",
    "from splinter import Browser\n",
    "import pandas as pd\n",
    "import time\n",
    "\n",
    "# Initiate ChromeDriver\n",
    "executable_path = {'executable_path': '/usr/local/bin/chromedriver'}\n",
    "browser = Browser('chrome', **executable_path, headless=False)"
   ]
  },
  {
   "cell_type": "code",
   "execution_count": 4,
   "metadata": {},
   "outputs": [
    {
     "name": "stdout",
     "output_type": "stream",
     "text": [
      "Title: Opportunity Emerges in a Dusty Picture\n",
      "Para: NASA still hasn't heard from the Opportunity rover, but at least the agency can see it again.\n"
     ]
    }
   ],
   "source": [
    "#### PART 1: NASA Mars News ####\n",
    "\n",
    "# Target URL\n",
    "url = 'https://mars.nasa.gov/news/'\n",
    "browser.visit(url)\n",
    "\n",
    "# Create a Beautiful Soup object\n",
    "html=browser.html\n",
    "soup=bs(html,\"html.parser\")\n",
    "\n",
    "# Latest News Title and Paragraph\n",
    "news_title = soup.find(\"div\",class_=\"content_title\").text\n",
    "news_p = soup.find(\"div\", class_=\"article_teaser_body\").text\n",
    "print(f\"Title: {news_title}\")\n",
    "print(f\"Para: {news_p}\")"
   ]
  },
  {
   "cell_type": "code",
   "execution_count": 5,
   "metadata": {},
   "outputs": [
    {
     "name": "stdout",
     "output_type": "stream",
     "text": [
      "https://www.jpl.nasa.gov//spaceimages/images/mediumsize/PIA19113_ip.jpg\n"
     ]
    }
   ],
   "source": [
    "#### PART 2: JPL Mars Space Images ####\n",
    "\n",
    "# Target URL\n",
    "image_url= \"https://www.jpl.nasa.gov/spaceimages/?search=&category=Mars\"\n",
    "browser.visit(image_url)\n",
    "\n",
    "# Create a Beautiful Soup object\n",
    "html=browser.html\n",
    "soup2=bs(html,\"html.parser\")\n",
    "\n",
    "# Featured Image\n",
    "image_url_route= soup2.find_all('a', class_='fancybox')[0].get('data-fancybox-href').strip()\n",
    "\n",
    "# Full Address\n",
    "featured_image_url=\"https://www.jpl.nasa.gov/\"+image_url_route\n",
    "print(featured_image_url)"
   ]
  },
  {
   "cell_type": "code",
   "execution_count": 6,
   "metadata": {},
   "outputs": [
    {
     "name": "stdout",
     "output_type": "stream",
     "text": [
      "That dusty dot on the slopes of the Mars’ Perseverance Valley is the Opportunity rover, as seen by MRO’s HiRISE camera.  We last heard from Oppy over 100 days ago. https://www.nasa.gov/feature/jpl/opportunity-emerges-in-a-dusty-picture …pic.twitter.com/x9WxH6hIhB\n"
     ]
    }
   ],
   "source": [
    "#### PART 3: Mars Weather ####\n",
    "\n",
    "# Target Twitter URL\n",
    "twitter_url=\"https://twitter.com/marswxreport?lang=en\"\n",
    "browser.visit(twitter_url)\n",
    "\n",
    "# Create a Beautiful Soup object\n",
    "html=browser.html\n",
    "soup3=bs(html,\"html.parser\")\n",
    "\n",
    "# Latest Mars Weather Tweet\n",
    "mars_tweet=soup3.find_all('p', class_='TweetTextSize TweetTextSize--normal js-tweet-text tweet-text')[0].text\n",
    "print(mars_tweet)"
   ]
  },
  {
   "cell_type": "code",
   "execution_count": 7,
   "metadata": {},
   "outputs": [],
   "source": [
    "#### PART 4: Mars Fact ####\n",
    "\n",
    "# Target URL\n",
    "url=\"https://space-facts.com/mars/\"\n",
    "\n",
    "# Import URL to Panda\n",
    "table=pd.read_html(url)\n",
    "\n",
    "mars_fact_df=table[0]\n",
    "mars_fact_df.columns = [\"Category\", \"Stats\"]\n",
    "mars_fact_df.set_index([\"Category\"])\n",
    "\n",
    "# Exporting as HTML Table\n",
    "mars_fact_html = mars_fact_df.to_html()\n",
    "mars_fact_html = mars_fact_html.replace(\"\\n\", \"\")\n",
    "\n",
    "mars_fact_df.to_html('mars_fact_df.html')"
   ]
  },
  {
   "cell_type": "code",
   "execution_count": 8,
   "metadata": {},
   "outputs": [],
   "source": [
    "#### PART 5: Mars Hemispheres ####\n",
    "\n",
    "# Target URL\n",
    "url = \"https://astrogeology.usgs.gov/search/results?q=hemisphere+enhanced&k1=target&v1=Mars\"\n",
    "browser.visit(url)\n",
    "\n",
    "# Use splinter to loop through the 4 images and load them into a dictionary\n",
    "html = browser.html\n",
    "soup = bs(html, 'html.parser')\n",
    "mars_hemis=[]\n",
    "\n",
    "# loop through the four tags and load the data to the dictionary\n",
    "\n",
    "for i in range (4):\n",
    "    time.sleep(5)\n",
    "    images = browser.find_by_tag('h3')\n",
    "    images[i].click()\n",
    "    html = browser.html\n",
    "    soup = bs(html, 'html.parser')\n",
    "    partial = soup.find(\"img\", class_=\"wide-image\")[\"src\"]\n",
    "    img_title = soup.find(\"h2\",class_=\"title\").text\n",
    "    img_url = 'https://astrogeology.usgs.gov'+ partial\n",
    "    dictionary={\"title\":img_title,\"img_url\":img_url}\n",
    "    mars_hemis.append(dictionary)\n",
    "    browser.back()"
   ]
  },
  {
   "cell_type": "code",
   "execution_count": null,
   "metadata": {},
   "outputs": [],
   "source": []
  }
 ],
 "metadata": {
  "kernelspec": {
   "display_name": "Python 3",
   "language": "python",
   "name": "python3"
  },
  "language_info": {
   "codemirror_mode": {
    "name": "ipython",
    "version": 3
   },
   "file_extension": ".py",
   "mimetype": "text/x-python",
   "name": "python",
   "nbconvert_exporter": "python",
   "pygments_lexer": "ipython3",
   "version": "3.6.5"
  }
 },
 "nbformat": 4,
 "nbformat_minor": 2
}
